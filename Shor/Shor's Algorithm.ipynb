{
 "cells": [
  {
   "cell_type": "markdown",
   "metadata": {},
   "source": [
    "# How does it work?\n",
    "Suppose we have `N = 21`  \n",
    "and we randomly choose integer x < N `x = 8`  \n",
    "We confirm that `gcd(21, 8) = 1`"
   ]
  },
  {
   "cell_type": "code",
   "execution_count": 1,
   "metadata": {},
   "outputs": [
    {
     "data": {
      "text/plain": [
       "True"
      ]
     },
     "execution_count": 1,
     "metadata": {},
     "output_type": "execute_result"
    }
   ],
   "source": [
    "from math import gcd\n",
    "N = 21\n",
    "x = 8\n",
    "gcd(N, x) == 1"
   ]
  },
  {
   "cell_type": "markdown",
   "metadata": {},
   "source": [
    "We find the order of 8 mod 21"
   ]
  },
  {
   "cell_type": "code",
   "execution_count": 2,
   "metadata": {
    "scrolled": false
   },
   "outputs": [
    {
     "name": "stdout",
     "output_type": "stream",
     "text": [
      "8^1 mod 21 = 8\n",
      "8^2 mod 21 = 1\n",
      "8^3 mod 21 = 8\n",
      "8^4 mod 21 = 1\n",
      "8^5 mod 21 = 8\n",
      "8^6 mod 21 = 1\n",
      "8^7 mod 21 = 8\n",
      "8^8 mod 21 = 1\n",
      "Order/Period = 2\n"
     ]
    }
   ],
   "source": [
    "def multiplicative_order(a, n):\n",
    "    order = 1\n",
    "    mod_exp = a\n",
    "    while mod_exp != 1:\n",
    "        order += 1\n",
    "        mod_exp = (mod_exp * a) % n\n",
    "    return order\n",
    "\n",
    "def visualize(a, n):\n",
    "    for i in range(1, 9):\n",
    "        o = a**i % n\n",
    "        print(\"{}^{} mod {} = {}\".format(a, i, n, o))\n",
    "\n",
    "visualize(x, N)\n",
    "r = multiplicative_order(x, N)\n",
    "print(\"Order/Period = {}\".format(r))"
   ]
  },
  {
   "cell_type": "markdown",
   "metadata": {},
   "source": [
    "So now we know that the order of 8 mod 21 is 2, `r = 2`  \n",
    "\n",
    "We must now check if `r is odd` or if $ x^{\\frac{r}{2}}+1 \\equiv 0\\: mod\\: N $ _(This basically checks if its a multiple of N)_   \n",
    "\n",
    "Then we have to go back to step 1 and choose another x  \n",
    "\n",
    "Else we can find our facotrs by  \n",
    "$$ factor1 = gcd(N, x^{\\frac{r}{2}}+1) $$  \n",
    "$$ factor2 = gcd(N, x^{\\frac{r}{2}}-1) $$"
   ]
  },
  {
   "cell_type": "code",
   "execution_count": 3,
   "metadata": {},
   "outputs": [
    {
     "name": "stdout",
     "output_type": "stream",
     "text": [
      "Prime factors of 21 is 3 7\n"
     ]
    }
   ],
   "source": [
    "factor1 = gcd(N, (x**(r//2)+1)) # gcd(21, 9)\n",
    "factor2 = gcd(N, (x**(r//2)-1)) # gcd(21, 7)\n",
    "print(\"Prime factors of {} is {} {}\".format(N, factor1, factor2))"
   ]
  },
  {
   "cell_type": "markdown",
   "metadata": {},
   "source": [
    "## Why this works"
   ]
  },
  {
   "cell_type": "code",
   "execution_count": 4,
   "metadata": {},
   "outputs": [
    {
     "data": {
      "text/latex": [
       "$$x^{r} \\equiv 1\\: mod\\: N$$"
      ],
      "text/plain": [
       "<IPython.core.display.Math object>"
      ]
     },
     "metadata": {},
     "output_type": "display_data"
    },
    {
     "name": "stdout",
     "output_type": "stream",
     "text": [
      "True\n"
     ]
    },
    {
     "data": {
      "text/latex": [
       "$$x^{r} - 1^{r} \\equiv 0\\: mod\\: N$$"
      ],
      "text/plain": [
       "<IPython.core.display.Math object>"
      ]
     },
     "metadata": {},
     "output_type": "display_data"
    },
    {
     "name": "stdout",
     "output_type": "stream",
     "text": [
      "True\n"
     ]
    },
    {
     "data": {
      "text/latex": [
       "$$(x^{\\frac{r}{2}}+1)(x^{\\frac{r}{2}}-1)\\: |\\:  21$$"
      ],
      "text/plain": [
       "<IPython.core.display.Math object>"
      ]
     },
     "metadata": {},
     "output_type": "display_data"
    },
    {
     "name": "stdout",
     "output_type": "stream",
     "text": [
      "True\n"
     ]
    }
   ],
   "source": [
    "from IPython.display import display, Math, Latex\n",
    "display(Math(r'x^{r} \\equiv 1\\: mod\\: N'))\n",
    "print(x**2 % N == 1 % N) # 8^2 mod 21 = 1 mod 21  \n",
    "\n",
    "display(Math(r'x^{r} - 1^{r} \\equiv 0\\: mod\\: N'))\n",
    "print((x**2 - 1**2) % N == 0 % N) # 8^2 - 1^2 mod 21 = 0 mod 21\n",
    "\n",
    "display(Math(r'(x^{\\frac{r}{2}}+1)(x^{\\frac{r}{2}}-1)\\: |\\:  21'))\n",
    "print(((x+1)*(x-1)) % N == 0) # 21 is divisible by (8+1)(8-1)  "
   ]
  },
  {
   "cell_type": "markdown",
   "metadata": {},
   "source": [
    "This means N or 21 in this case must be made up of 2 prime factors that divides $(x^{\\frac{r}{2}}+1)$ and $(x^{\\frac{r}{2}}-1)$ respectively.   \n",
    "\n",
    "$$21=pq$$  \n",
    "$$x^{\\frac{r}{2}}+1 = 8^{\\frac{2}{2}}+1 = 9$$  \n",
    "$$x^{\\frac{r}{2}}-1 = 8^{\\frac{2}{2}}-1 = 7$$  \n",
    "$$p\\: divides\\: 9,\\: q\\: divides\\: 7$$  \n",
    "$$gcd(21, 9) = 3,\\: gcd(21, 7) = 7$$  \n",
    "$$p = 3,\\: q = 7$$"
   ]
  },
  {
   "cell_type": "markdown",
   "metadata": {},
   "source": [
    "# Shor's Algorithm\n",
    "Please do not actually use this to try to factorize large numbers, it is a really inefficient way of factorization for a classical computer.\n",
    "\n",
    "```bash\n",
    "python3 -m timeit -s 'import classical_shor' 'classical_shor.solve(80609)'\n",
    "100 loops, best of 3: 3.11 msec per loop ((3.11 * 10^-3) seconds)\n",
    "```"
   ]
  },
  {
   "cell_type": "code",
   "execution_count": 9,
   "metadata": {},
   "outputs": [],
   "source": [
    "from random import randint\n",
    "\n",
    "def solve(n):\n",
    "    while True:\n",
    "        # Step 1\n",
    "        # starts from 2 because 1 power anything is 1\n",
    "        x = randint(2, n-1)\n",
    "        tmp = gcd(x,n)\n",
    "        if tmp != 1:\n",
    "            print('We got lucky! Factor of {} is {} and {}!'.format(n, tmp, n//tmp))\n",
    "            return [tmp, n//tmp]\n",
    "        print('Generated random integer x: {}'.format(x))\n",
    "\n",
    "        # Step 2\n",
    "        # In actual shor's algorithm quantum fourier transform will be implemented here.\n",
    "        r = multiplicative_order(x, n)\n",
    "        print('Multiplicative Order of {} mod {} => {}'.format(x, n, r))\n",
    "\n",
    "        # Step 3\n",
    "        if r % 2 != 0:\n",
    "            print('{} is not even :( going back to first step...\\n'.format(r))\n",
    "            continue\n",
    "        elif (x**(r//2)+1) % n == 0:\n",
    "            print('{} is a multiple of n :( back to first step...\\n'.format(r))\n",
    "            continue\n",
    "        else:\n",
    "            factor1 = gcd(n, (x**(r//2)+1))\n",
    "            factor2 = gcd(n, (x**(r//2)-1))\n",
    "        return [factor1, factor2]"
   ]
  },
  {
   "cell_type": "code",
   "execution_count": 7,
   "metadata": {
    "scrolled": true
   },
   "outputs": [
    {
     "name": "stdout",
     "output_type": "stream",
     "text": [
      "Generated random integer x: 56007\n",
      "Multiplicative Order of 56007 mod 80609 => 19980\n",
      "Factor of 80609 is 541 and 149\n",
      "\n"
     ]
    }
   ],
   "source": [
    "n = 80609\n",
    "factors = solve(n)\n",
    "print('Factor of {} is {} and {}\\n'.format(n, factors[0], factors[1]))"
   ]
  },
  {
   "cell_type": "markdown",
   "metadata": {},
   "source": [
    "# Purely Classical Algorithm\n",
    "This is a much better algorithm for finding primes on a classical computer.\n",
    "\n",
    "```bash\n",
    "python3 -m timeit -s 'import pure_factorization' 'pure_factorization.factorize(80609)'\n",
    "100000 loops, best of 3: 3.56 usec per loop ((3.56 * 10^-6) seconds)\n",
    "```"
   ]
  },
  {
   "cell_type": "code",
   "execution_count": 8,
   "metadata": {},
   "outputs": [],
   "source": [
    "from math import sqrt\n",
    "\n",
    "# returns all factors of x except for 1 and x itself\n",
    "# O(sqrt(N))\n",
    "def factorize(x):\n",
    "    if x % 2 == 0:\n",
    "        return [2, x // 2]\n",
    "    for i in range(3, int(sqrt(x))+1, 2):\n",
    "        if (x % i == 0):\n",
    "            return [i, x // i]"
   ]
  },
  {
   "cell_type": "code",
   "execution_count": 30,
   "metadata": {},
   "outputs": [
    {
     "data": {
      "text/plain": [
       "[149, 541]"
      ]
     },
     "execution_count": 30,
     "metadata": {},
     "output_type": "execute_result"
    }
   ],
   "source": [
    "factorize(n)"
   ]
  }
 ],
 "metadata": {
  "kernelspec": {
   "display_name": "Python 3",
   "language": "python",
   "name": "python3"
  },
  "language_info": {
   "codemirror_mode": {
    "name": "ipython",
    "version": 3
   },
   "file_extension": ".py",
   "mimetype": "text/x-python",
   "name": "python",
   "nbconvert_exporter": "python",
   "pygments_lexer": "ipython3",
   "version": "3.5.2"
  }
 },
 "nbformat": 4,
 "nbformat_minor": 1
}
